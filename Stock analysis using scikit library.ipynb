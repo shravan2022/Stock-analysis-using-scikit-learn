{
 "cells": [
  {
   "cell_type": "code",
   "execution_count": 6,
   "id": "2d72ff6d",
   "metadata": {},
   "outputs": [
    {
     "name": "stdout",
     "output_type": "stream",
     "text": [
      "[*********************100%***********************]  1 of 1 completed\n"
     ]
    },
    {
     "data": {
      "text/html": [
       "<div>\n",
       "<style scoped>\n",
       "    .dataframe tbody tr th:only-of-type {\n",
       "        vertical-align: middle;\n",
       "    }\n",
       "\n",
       "    .dataframe tbody tr th {\n",
       "        vertical-align: top;\n",
       "    }\n",
       "\n",
       "    .dataframe thead th {\n",
       "        text-align: right;\n",
       "    }\n",
       "</style>\n",
       "<table border=\"1\" class=\"dataframe\">\n",
       "  <thead>\n",
       "    <tr style=\"text-align: right;\">\n",
       "      <th></th>\n",
       "      <th>Open</th>\n",
       "      <th>High</th>\n",
       "      <th>Low</th>\n",
       "      <th>Close</th>\n",
       "      <th>Adj Close</th>\n",
       "      <th>Volume</th>\n",
       "    </tr>\n",
       "    <tr>\n",
       "      <th>Date</th>\n",
       "      <th></th>\n",
       "      <th></th>\n",
       "      <th></th>\n",
       "      <th></th>\n",
       "      <th></th>\n",
       "      <th></th>\n",
       "    </tr>\n",
       "  </thead>\n",
       "  <tbody>\n",
       "    <tr>\n",
       "      <th>2010-01-04</th>\n",
       "      <td>7.622500</td>\n",
       "      <td>7.660714</td>\n",
       "      <td>7.585000</td>\n",
       "      <td>7.643214</td>\n",
       "      <td>6.505280</td>\n",
       "      <td>493729600</td>\n",
       "    </tr>\n",
       "    <tr>\n",
       "      <th>2010-01-05</th>\n",
       "      <td>7.664286</td>\n",
       "      <td>7.699643</td>\n",
       "      <td>7.616071</td>\n",
       "      <td>7.656429</td>\n",
       "      <td>6.516527</td>\n",
       "      <td>601904800</td>\n",
       "    </tr>\n",
       "    <tr>\n",
       "      <th>2010-01-06</th>\n",
       "      <td>7.656429</td>\n",
       "      <td>7.686786</td>\n",
       "      <td>7.526786</td>\n",
       "      <td>7.534643</td>\n",
       "      <td>6.412872</td>\n",
       "      <td>552160000</td>\n",
       "    </tr>\n",
       "    <tr>\n",
       "      <th>2010-01-07</th>\n",
       "      <td>7.562500</td>\n",
       "      <td>7.571429</td>\n",
       "      <td>7.466071</td>\n",
       "      <td>7.520714</td>\n",
       "      <td>6.401017</td>\n",
       "      <td>477131200</td>\n",
       "    </tr>\n",
       "    <tr>\n",
       "      <th>2010-01-08</th>\n",
       "      <td>7.510714</td>\n",
       "      <td>7.571429</td>\n",
       "      <td>7.466429</td>\n",
       "      <td>7.570714</td>\n",
       "      <td>6.443572</td>\n",
       "      <td>447610800</td>\n",
       "    </tr>\n",
       "  </tbody>\n",
       "</table>\n",
       "</div>"
      ],
      "text/plain": [
       "                Open      High       Low     Close  Adj Close     Volume\n",
       "Date                                                                    \n",
       "2010-01-04  7.622500  7.660714  7.585000  7.643214   6.505280  493729600\n",
       "2010-01-05  7.664286  7.699643  7.616071  7.656429   6.516527  601904800\n",
       "2010-01-06  7.656429  7.686786  7.526786  7.534643   6.412872  552160000\n",
       "2010-01-07  7.562500  7.571429  7.466071  7.520714   6.401017  477131200\n",
       "2010-01-08  7.510714  7.571429  7.466429  7.570714   6.443572  447610800"
      ]
     },
     "execution_count": 6,
     "metadata": {},
     "output_type": "execute_result"
    }
   ],
   "source": [
    "import pandas as pd\n",
    "import numpy as np\n",
    "import matplotlib.pyplot as plt\n",
    "import yfinance as yf\n",
    "from sklearn.ensemble import RandomForestClassifier\n",
    "from sklearn.model_selection import train_test_split\n",
    "from sklearn.metrics import classification_report, confusion_matrix\n",
    "\n",
    "# Load data\n",
    "ticker = \"AAPL\"\n",
    "data = yf.download(ticker, start=\"2010-01-01\", end=\"2022-01-01\")\n",
    "data.head()"
   ]
  },
  {
   "cell_type": "code",
   "execution_count": 7,
   "id": "7824eef1",
   "metadata": {},
   "outputs": [],
   "source": [
    "# Calculate daily returns\n",
    "data['Return'] = data['Adj Close'].pct_change()\n",
    "data = data.dropna()\n"
   ]
  },
  {
   "cell_type": "code",
   "execution_count": 8,
   "id": "3b9980a0",
   "metadata": {},
   "outputs": [],
   "source": [
    "def generate_signals(data, short_window=50, long_window=200):\n",
    "    # Create short-term and long-term moving averages\n",
    "    data['Short_MA'] = data['Adj Close'].rolling(window=short_window).mean()\n",
    "    data['Long_MA'] = data['Adj Close'].rolling(window=long_window).mean()\n",
    "\n",
    "    # Generate signals\n",
    "    data['Signal'] = np.where(data['Short_MA'] > data['Long_MA'], 1, 0)\n",
    "    data['Signal'] = np.where(data['Short_MA'] < data['Long_MA'], -1, data['Signal'])\n",
    "    \n",
    "    # Shift signal to the next day (to avoid lookahead bias)\n",
    "    data['Signal'] = data['Signal'].shift(1)\n",
    "\n",
    "    return data\n"
   ]
  },
  {
   "cell_type": "code",
   "execution_count": 9,
   "id": "58be38b7",
   "metadata": {},
   "outputs": [
    {
     "name": "stderr",
     "output_type": "stream",
     "text": [
      "C:\\Users\\Shravan\\AppData\\Local\\Temp/ipykernel_5696/2789453470.py:3: SettingWithCopyWarning: \n",
      "A value is trying to be set on a copy of a slice from a DataFrame.\n",
      "Try using .loc[row_indexer,col_indexer] = value instead\n",
      "\n",
      "See the caveats in the documentation: https://pandas.pydata.org/pandas-docs/stable/user_guide/indexing.html#returning-a-view-versus-a-copy\n",
      "  data['Short_MA'] = data['Adj Close'].rolling(window=short_window).mean()\n",
      "C:\\Users\\Shravan\\AppData\\Local\\Temp/ipykernel_5696/2789453470.py:4: SettingWithCopyWarning: \n",
      "A value is trying to be set on a copy of a slice from a DataFrame.\n",
      "Try using .loc[row_indexer,col_indexer] = value instead\n",
      "\n",
      "See the caveats in the documentation: https://pandas.pydata.org/pandas-docs/stable/user_guide/indexing.html#returning-a-view-versus-a-copy\n",
      "  data['Long_MA'] = data['Adj Close'].rolling(window=long_window).mean()\n",
      "C:\\Users\\Shravan\\AppData\\Local\\Temp/ipykernel_5696/2789453470.py:7: SettingWithCopyWarning: \n",
      "A value is trying to be set on a copy of a slice from a DataFrame.\n",
      "Try using .loc[row_indexer,col_indexer] = value instead\n",
      "\n",
      "See the caveats in the documentation: https://pandas.pydata.org/pandas-docs/stable/user_guide/indexing.html#returning-a-view-versus-a-copy\n",
      "  data['Signal'] = np.where(data['Short_MA'] > data['Long_MA'], 1, 0)\n",
      "C:\\Users\\Shravan\\AppData\\Local\\Temp/ipykernel_5696/2789453470.py:8: SettingWithCopyWarning: \n",
      "A value is trying to be set on a copy of a slice from a DataFrame.\n",
      "Try using .loc[row_indexer,col_indexer] = value instead\n",
      "\n",
      "See the caveats in the documentation: https://pandas.pydata.org/pandas-docs/stable/user_guide/indexing.html#returning-a-view-versus-a-copy\n",
      "  data['Signal'] = np.where(data['Short_MA'] < data['Long_MA'], -1, data['Signal'])\n",
      "C:\\Users\\Shravan\\AppData\\Local\\Temp/ipykernel_5696/2789453470.py:11: SettingWithCopyWarning: \n",
      "A value is trying to be set on a copy of a slice from a DataFrame.\n",
      "Try using .loc[row_indexer,col_indexer] = value instead\n",
      "\n",
      "See the caveats in the documentation: https://pandas.pydata.org/pandas-docs/stable/user_guide/indexing.html#returning-a-view-versus-a-copy\n",
      "  data['Signal'] = data['Signal'].shift(1)\n",
      "C:\\Users\\Shravan\\AppData\\Local\\Temp/ipykernel_5696/865943489.py:5: SettingWithCopyWarning: \n",
      "A value is trying to be set on a copy of a slice from a DataFrame.\n",
      "Try using .loc[row_indexer,col_indexer] = value instead\n",
      "\n",
      "See the caveats in the documentation: https://pandas.pydata.org/pandas-docs/stable/user_guide/indexing.html#returning-a-view-versus-a-copy\n",
      "  data['Target'] = np.where(data['Signal'] == 1, 'Buy', np.where(data['Signal'] == -1, 'Sell', 'Hold'))\n"
     ]
    }
   ],
   "source": [
    "# Generate signals\n",
    "data = generate_signals(data)\n",
    "\n",
    "# Create target variable\n",
    "data['Target'] = np.where(data['Signal'] == 1, 'Buy', np.where(data['Signal'] == -1, 'Sell', 'Hold'))\n",
    "\n",
    "# Drop unnecessary columns\n",
    "data = data.drop(['Open', 'High', 'Low', 'Close', 'Volume', 'Signal', 'Short_MA', 'Long_MA'], axis=1)\n",
    "\n",
    "# Drop rows with missing values\n",
    "data = data.dropna()\n"
   ]
  },
  {
   "cell_type": "code",
   "execution_count": 10,
   "id": "c2483e7b",
   "metadata": {},
   "outputs": [
    {
     "data": {
      "text/plain": [
       "RandomForestClassifier(random_state=42)"
      ]
     },
     "execution_count": 10,
     "metadata": {},
     "output_type": "execute_result"
    }
   ],
   "source": [
    "# Split data into training and testing sets\n",
    "X = data.drop('Target', axis=1)\n",
    "y = data['Target']\n",
    "X_train, X_test, y_train, y_test = train_test_split(X, y, test_size=0.2, random_state=42)\n",
    "\n",
    "# Fit Random Forest classifier to training data\n",
    "rf = RandomForestClassifier(n_estimators=100, random_state=42)\n",
    "rf.fit(X_train, y_train)"
   ]
  },
  {
   "cell_type": "code",
   "execution_count": 11,
   "id": "f44731fb",
   "metadata": {},
   "outputs": [
    {
     "name": "stdout",
     "output_type": "stream",
     "text": [
      "              precision    recall  f1-score   support\n",
      "\n",
      "         Buy       0.89      0.92      0.91       456\n",
      "        Hold       1.00      0.98      0.99        47\n",
      "        Sell       0.58      0.50      0.53       101\n",
      "\n",
      "    accuracy                           0.85       604\n",
      "   macro avg       0.82      0.80      0.81       604\n",
      "weighted avg       0.85      0.85      0.85       604\n",
      "\n",
      "[[420   0  36]\n",
      " [  1  46   0]\n",
      " [ 51   0  50]]\n"
     ]
    }
   ],
   "source": [
    "# Predict on testing data\n",
    "y_pred = rf.predict(X_test)\n",
    "\n",
    "# Evaluate performance\n",
    "print(classification_report(y_test, y_pred))\n",
    "print(confusion_matrix(y_test, y_pred))\n"
   ]
  },
  {
   "cell_type": "code",
   "execution_count": null,
   "id": "460a91e1",
   "metadata": {},
   "outputs": [],
   "source": []
  }
 ],
 "metadata": {
  "kernelspec": {
   "display_name": "Python 3 (ipykernel)",
   "language": "python",
   "name": "python3"
  },
  "language_info": {
   "codemirror_mode": {
    "name": "ipython",
    "version": 3
   },
   "file_extension": ".py",
   "mimetype": "text/x-python",
   "name": "python",
   "nbconvert_exporter": "python",
   "pygments_lexer": "ipython3",
   "version": "3.9.7"
  }
 },
 "nbformat": 4,
 "nbformat_minor": 5
}
